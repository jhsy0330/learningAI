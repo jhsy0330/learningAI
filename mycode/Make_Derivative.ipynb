{
 "cells": [
  {
   "cell_type": "code",
   "execution_count": 1,
   "metadata": {},
   "outputs": [],
   "source": [
    "import numpy as np"
   ]
  },
  {
   "cell_type": "code",
   "execution_count": 5,
   "metadata": {},
   "outputs": [],
   "source": [
    "class Tensor():\n",
    "    \"\"\"\n",
    "    计算节点\n",
    "    \"\"\"\n",
    "    def __init__(self,data,depend=[], name=\"none\"):\n",
    "        \"\"\"\n",
    "        data\n",
    "        depend\n",
    "        name\n",
    "        \"\"\"\n",
    "        self.data = data\n",
    "        self.depend = depend\n",
    "        self.name = name\n",
    "        self.grad = 0\n",
    "    \n",
    "    def __mul__(self, data):\n",
    "        def grad_fn1(grad):\n",
    "            return grad * data.data\n",
    "        \n",
    "        def grad_fn2(grad):\n",
    "            return grad * self.data\n",
    "        \n",
    "        new = Tensor(\n",
    "            self.data * data.data, \n",
    "            depend = [(self,grad_fn1), (data, grad_fn2)]\n",
    "        )\n",
    "        return new\n",
    "    \n",
    "    def __rmul__(self, data):\n",
    "        def grad_fn1(grad):\n",
    "            return grad * data.data\n",
    "        \n",
    "        def grad_fn2(grad):\n",
    "            return grad * self.data\n",
    "        \n",
    "        new = Tensor(\n",
    "            self.data * data.data, \n",
    "            depend = [(self,grad_fn1), (data, grad_fn2)]\n",
    "        )\n",
    "        return new\n",
    "    \n",
    "    def __add__(self, data):\n",
    "        def grad_fn(grad):\n",
    "            return grad\n",
    "        new = Tensor(\n",
    "            self.data + data.data, \n",
    "            depend = [(self,grad_fn), (data, grad_fn)]\n",
    "        )\n",
    "        return new\n",
    "\n",
    "    def __radd__(self, data):\n",
    "        def grad_fn(grad):\n",
    "            return grad\n",
    "        new = Tensor(\n",
    "            self.data + data.data, \n",
    "            depend = [(self,grad_fn), (data, grad_fn)]\n",
    "        )\n",
    "\n",
    "    def __pow__(self, n):\n",
    "        def grad_fn(grad):\n",
    "            return grad * n * self.data ** (n - 1)\n",
    "        new = Tensor(\n",
    "            self.data ** n, \n",
    "            depend = [(self,grad_fn)]\n",
    "        )\n",
    "        return new\n",
    "    \n",
    "    def backward(self, grad=None):\n",
    "        if grad == None:\n",
    "            self.grad = 1\n",
    "            grad = 1\n",
    "        else:\n",
    "            self.grad += grad\n",
    "\n",
    "        for tensor, grad_fn in self.depend:\n",
    "            bw = grad_fn(grad)\n",
    "            tensor.backward(bw)\n",
    "\n",
    "    def grand_zero(self):\n",
    "        self.grad = 0"
   ]
  },
  {
   "cell_type": "code",
   "execution_count": 9,
   "metadata": {},
   "outputs": [
    {
     "data": {
      "text/plain": [
       "4"
      ]
     },
     "execution_count": 9,
     "metadata": {},
     "output_type": "execute_result"
    }
   ],
   "source": [
    "X = Tensor(2)\n",
    "x2 = X * X\n",
    "g = x2 * x2\n",
    "h = x2 * x2\n",
    "y = g + h\n",
    "y.backward()\n",
    "X.grad\n",
    "X.grand_zero()\n",
    "x2.backward()\n",
    "X.grad"
   ]
  }
 ],
 "metadata": {
  "kernelspec": {
   "display_name": "d2l",
   "language": "python",
   "name": "python3"
  },
  "language_info": {
   "codemirror_mode": {
    "name": "ipython",
    "version": 3
   },
   "file_extension": ".py",
   "mimetype": "text/x-python",
   "name": "python",
   "nbconvert_exporter": "python",
   "pygments_lexer": "ipython3",
   "version": "3.9.21"
  }
 },
 "nbformat": 4,
 "nbformat_minor": 2
}
